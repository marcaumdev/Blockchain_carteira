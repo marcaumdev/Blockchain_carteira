{
  "nbformat": 4,
  "nbformat_minor": 0,
  "metadata": {
    "colab": {
      "provenance": [],
      "toc_visible": true
    },
    "kernelspec": {
      "name": "python3",
      "display_name": "Python 3"
    },
    "language_info": {
      "name": "python"
    }
  },
  "cells": [
    {
      "cell_type": "markdown",
      "source": [
        "Criação do bloco e blockchain"
      ],
      "metadata": {
        "id": "JbIn95f1bEV_"
      }
    },
    {
      "cell_type": "code",
      "execution_count": null,
      "metadata": {
        "id": "ZS6Mr4zjbDJz"
      },
      "outputs": [],
      "source": [
        "import hashlib # importa a biblioteca que faz o calculo da hash\n",
        "import json # importa o módulo que manipula arquivos json\n",
        "from time import time # importa a função time para obter o timestamp (data e hora)\n",
        "\n",
        "class Bloco:\n",
        "  def __init__(self, index, dados, hash_anterior=''):\n",
        "    # inicializador o bloco com os parametros fornecidos e os atributos necessarios\n",
        "    self.index = index # indice do bloco da cadeia\n",
        "    self.timestamp = time() # Registrar o momento de criação do bloco\n",
        "    self.dados = dados # Dados armazenados no bloco (ex: transações)\n",
        "    self.hash_anterior = hash_anterior # Hash do bloco anterior na cadeia\n",
        "    self.nonce = 0 # Valor usado na prova de trabalho para alterar o hash\n",
        "    self.hash_atual = self.gerar_hash() # Gerar o hash do bloco\n",
        "\n",
        "  def gerar_hash(self):\n",
        "    # Função para gerar o hash SHA-256 do bloco\n",
        "    conteudo_bloco = json.dumps({\n",
        "        'index': self.index,\n",
        "        'timestamp': self.timestamp,\n",
        "        'dados': self.dados,\n",
        "        'hash_anterior': self.hash_anterior,\n",
        "        'nonce': self.nonce,\n",
        "    }, sort_keys=True).encode() # Converte os dados do bloco em uma string JSON ordenada\n",
        "    return hashlib.sha256(conteudo_bloco).hexdigest() # Calcula o hash SHA-256 do conteúdo do bloco\n",
        "\n",
        "  def prova_de_trabalho(self, dificuldade):\n",
        "    # realiza a prova de trabalho ajustando o nonce até que o hash comece com 'dificuldade' zero\n",
        "    while self.hash_atual[:dificuldade] != '0' * dificuldade:\n",
        "      self.nonce += 1 # incrementa o nonce para alterar o hash\n",
        "      self.hash_atual = self.gerar_hash() # recalcula o hash com novo nonce\n",
        "\n",
        "class Blockchain:\n",
        "  def __init__(self):\n",
        "    # inicializa a blockchain com um bloco genesis e definir a dificuldade da prova de trabalho\n",
        "    self.cadeia = [self.criar_bloco_genesis()] # Lista que armazena os blocos na cadeia\n",
        "    self.dificuldade = 2 # define o numero de zeros necessarios no hash da prova de trabalho\n",
        "\n",
        "  def criar_bloco_genesis(self):\n",
        "    return Bloco(0, \"Bloco Genesis\", \"0\") # cria bloco genesis\n",
        "\n",
        "  def obter_ultimo_bloco(self):\n",
        "    # retorna o ultimo bloco da cadeia\n",
        "    return self.cadeia[-1]\n",
        "\n",
        "  def adicionar_bloco(self, novo_bloco):\n",
        "    # adiciona um novo bloco à cadeia\n",
        "    novo_bloco.hash_anterior = self.obter_ultimo_bloco().hash_atual # define o hash do bloco anterior\n",
        "    novo_bloco.prova_de_trabalho(self.dificuldade) # realiza a prova de trabalho para alterar o hash\n",
        "    self.cadeia.append(novo_bloco) # adiciona o novo bloco à cadeia\n",
        "\n",
        "  def validar_cadeia(self):\n",
        "    # valida a integridade da cadeia, validando hashes e encadeamento\n",
        "    for i in range(1, len(self.cadeia)):\n",
        "      bloco_atual = self.cadeia[i]\n",
        "      bloco_anterior = self.cadeia[i-1]\n",
        "\n",
        "      # verificar se o hash armazenado corresponde ao hash calculado\n",
        "      if bloco_atual.hash_atual != bloco_atual.gerar_hash():\n",
        "        return False # retorna false se houver discrepancia\n",
        "\n",
        "      # verificar se o hash do bloco anterior correponde ao hash armazenado no bloco anterior\n",
        "      if bloco_anterior.hash_atual != bloco_anterior.gerar_hash():\n",
        "        return False # retorna false se houver discrepancia\n",
        "\n",
        "      return True # retorna true se a cadeia for valida\n",
        "\n",
        "      def salvar_em_json(self, nome_arquivo='blockchain.json'):\n",
        "        # salvar a cadeia em um arquivo JSON\n",
        "        with open(nome_arquivo, 'w') as arquivo:\n",
        "          json.dump([bloco.__dict__ for bloco in self.cadeia], arquivo, ident=4)\n",
        "\n",
        "# função para coletar dados de exames medicos\n",
        "def coletar_dados_exame():\n",
        "  glicose = float(input(\"Digite o valor da glicose: \"))\n",
        "  return {\n",
        "      'glicose': glicose\n",
        "  } # retorna um dicionario com os dados coletados"
      ]
    },
    {
      "cell_type": "markdown",
      "source": [
        "Instanciar a blockchain"
      ],
      "metadata": {
        "id": "F_BFrV8BoZeU"
      }
    },
    {
      "cell_type": "code",
      "source": [
        "blockchain = Blockchain()"
      ],
      "metadata": {
        "id": "zIdjc9mAocsP"
      },
      "execution_count": null,
      "outputs": []
    },
    {
      "cell_type": "markdown",
      "source": [
        "Adicionar um bloco\n"
      ],
      "metadata": {
        "id": "35VUeEr6o3FF"
      }
    },
    {
      "cell_type": "code",
      "source": [
        "# Coletar os dados de exames do usuario\n",
        "dados_exame = coletar_dados_exame()\n",
        "\n",
        "# Cria um novo bloco com os dados coletados\n",
        "novo_bloco = Bloco(blockchain.obter_ultimo_bloco().index + 1, dados_exame)\n",
        "# define o indice do novo bloco como indice do ultimo bloco + 1\n",
        "# associa os dados coletados ao bloco criado\n",
        "\n",
        "# adiciona o novo bloco a blockchain\n",
        "blockchain.adicionar_bloco(novo_bloco)\n",
        "\n",
        "#verificar intergidade da blockchain apos adicao do bloco\n",
        "if blockchain.validar_cadeia():\n",
        "    print(\"A cadeia é válida.\")\n",
        "else:\n",
        "    print(\"A cadeia é inválida.\")"
      ],
      "metadata": {
        "colab": {
          "base_uri": "https://localhost:8080/"
        },
        "id": "xMezAOQuo4-E",
        "outputId": "ea3cbf5b-fcfa-44d5-bbb7-47fe9f148552"
      },
      "execution_count": null,
      "outputs": [
        {
          "output_type": "stream",
          "name": "stdout",
          "text": [
            "Digite o valor da glicose: 450\n",
            "A cadeia é válida.\n"
          ]
        }
      ]
    }
  ]
}